{
 "cells": [
  {
   "cell_type": "markdown",
   "metadata": {},
   "source": [
    "# Policy Gradient\n",
    "\n",
    "Bu Notebook Lunar Lander Continuous'un REINFORCE algoritmasi ile cozumunu icerir."
   ]
  },
  {
   "cell_type": "code",
   "execution_count": 1,
   "metadata": {},
   "outputs": [],
   "source": [
    "# Import Stuff\n",
    "import gym\n",
    "from IPython import display\n",
    "import matplotlib\n",
    "import matplotlib.pyplot as plt\n",
    "import autograd.numpy as np\n",
    "from tqdm import tqdm\n",
    "from autograd.scipy.stats import multivariate_normal\n",
    "from autograd import grad\n",
    "\n",
    "%matplotlib inline\n",
    "\n",
    "CSS = \"\"\"\n",
    ".output {\n",
    "    align-items: center;\n",
    "}\n",
    "\"\"\"\n",
    "\n",
    "display.HTML('<style>{}</style>'.format(CSS))\n",
    "\n",
    "def show_state(env, e, t):\n",
    "    plt.figure(3, figsize=(10, 10))\n",
    "    plt.clf()\n",
    "    plt.imshow(env.render(mode='rgb_array'))\n",
    "    plt.title(\"Episode: {}, Step: {}\".format(e, t))\n",
    "    plt.axis('off')\n",
    "\n",
    "    display.clear_output(wait=True)\n",
    "    display.display(plt.gcf())\n",
    "\n",
    "n_episodes = 1000\n",
    "gamma = 0.9\n",
    "alpha = 1.0\n",
    "std = 0.33"
   ]
  },
  {
   "cell_type": "markdown",
   "metadata": {},
   "source": [
    "# Lunar Lander\n",
    "\n",
    "Ay yuzeyine inis yapan bir roketin size ihtiyaci var! Rokette 3 adet motor bulunmaktadir: Ana, sag ve sol. Roket asagiya dogru serbest dusus yaparken, motorlarini kullanarak kendini inis alanina indirmesi gerekmektedir. Eger roket yavas inis yaparsa +100, cakilirsa -100 odulu almaktadir. Eger inis alanina inmeyi basarirsa, ek olarak yaklasik 40 puan almaktadir. Roketin yan bir bicimde inis yapmasi da mumkundur fakat yere degen her ayak icin ekstra 10 puan alacaktir.  \n",
    "\n",
    "Bu Notebook'da bu problemin surekli (continuous) versionu ele alinmistir. Aksiyon uzayi iki boyutludur. Ilk boyut ana motoru kontrol eder, ikinci boyut isi sag ile sol motoru. Bu degerler -1, +1 araligindadir. Ana motor icin, -1,0 arasi degerler motorun kapali olmasi demektir. Diger aksiyon degeri -1,-0.5 araliginda sol motoru; 0.5,1 araliginda sag motoru kontrol eder. Motoru ateslemek -0.3 puandir.  \n",
    "\n",
    "Bu problemi surekli aksiyon degerleri icin cozebilmemiz icin policemizi Gaussian olarak modellememiz gerekmektedir. Policeyi guncelleyebilmek icin Gaussianin ortalama degerini $W$ ile parametrize ediyoruz. Kovaryanslari da parametrize edebiliriz fakat bu Notebook'da sabit kovaryans kullanip, iterasyonlar ilerledikce kovaryans genisliklerini daratma yontemi secildi.\n",
    "\n",
    "$$\n",
    "\\pi(a|s) = \\frac{1}{\\sqrt{(2\\pi)^{n}|\\Sigma|}}exp(-\\frac{1}{2}(a -\\mu_W(s))^T\\Sigma^{-1}(a -\\mu_W(s)))\n",
    "$$\n",
    "\n",
    "REINFORCE algoritmasi ile $W$ degerlerini guncelleyecegiz. REINFORCE her iterasyonun sonundaki beklenen odullere gore guncellenmektedir ($G_t$). $G_t$ $t$'den sonraki odullerin toplamidir.\n",
    "\n",
    "$$\n",
    "G_t = \\sum_{k=t}^{T}\\gamma^{t}r_t\n",
    "$$\n",
    "\n",
    "$$\n",
    "W \\leftarrow W + \\alpha \\nabla_W\\log{\\pi(a_t|s_t)} G_t\n",
    "$$\n",
    "\n",
    "Bu Notebook'da gradyan hesaplamalari icin Python'in ``autograd`` kutuphanesi kullanildi."
   ]
  },
  {
   "cell_type": "code",
   "execution_count": 2,
   "metadata": {},
   "outputs": [],
   "source": [
    "# Parametrize edilmis ortalama\n",
    "def mean(W, s):\n",
    "    return np.matmul(W, s)\n",
    "\n",
    "# Gaussian police eger greedy ise gaussian'dan aksiyon sec, degilse ortalamayi kullan\n",
    "def policy(W, s, greedy):\n",
    "    cov = np.eye(2) * std\n",
    "    m = mean(W, s)\n",
    "        \n",
    "    if greedy:\n",
    "        return m\n",
    "    \n",
    "    return np.random.multivariate_normal(m, cov)\n",
    "\n",
    "def logpr(W, s, a):\n",
    "    cov = np.eye(2) * std\n",
    "    m = mean(W, s)\n",
    "    \n",
    "    return multivariate_normal.logpdf(a, m, cov)\n",
    "\n",
    "dlogpr = grad(logpr)\n",
    "\n",
    "# Greedy police kullanan fonksiyon\n",
    "def run_env(env, W):\n",
    "    state = env.reset()\n",
    "    done = False\n",
    "    t = 0\n",
    "\n",
    "    while not done:\n",
    "        t += 1\n",
    "        show_state(env, 1, t)\n",
    "\n",
    "        action = policy(W, state, True)\n",
    "        next_state, reward, done, info = env.step(action)\n",
    "        state = next_state"
   ]
  },
  {
   "cell_type": "code",
   "execution_count": 3,
   "metadata": {},
   "outputs": [
    {
     "data": {
      "image/png": "[encoded data removed]",
      "text/plain": [
       "<Figure size 720x720 with 1 Axes>"
      ]
     },
     "metadata": {},
     "output_type": "display_data"
    },
    {
     "data": {
      "image/png": "[encoded data removed]",
      "text/plain": [
       "<Figure size 720x720 with 1 Axes>"
      ]
     },
     "metadata": {
      "needs_background": "light"
     },
     "output_type": "display_data"
    }
   ],
   "source": [
    "# Egitilmemis\n",
    "W_rand = np.random.randn(2, 8)\n",
    "\n",
    "env = gym.make('LunarLanderContinuous-v2')\n",
    "run_env(env, W_rand)"
   ]
  },
  {
   "cell_type": "code",
   "execution_count": 4,
   "metadata": {},
   "outputs": [
    {
     "name": "stderr",
     "output_type": "stream",
     "text": [
      "100%|██████████| 1000/1000 [04:30<00:00,  3.52it/s]\n"
     ]
    }
   ],
   "source": [
    "# Parametreleri olusturalim\n",
    "W = np.random.randn(2, 8)\n",
    "\n",
    "rewards = []\n",
    "\n",
    "# Her episode icin\n",
    "for e in tqdm(range(1, n_episodes+1)):\n",
    "    state = env.reset()\n",
    "    done = False\n",
    "    t = 0\n",
    "    total_reward = 0\n",
    "    trajectory = []\n",
    "    \n",
    "    # Bitmedigi surece\n",
    "    while not done:\n",
    "        # Gaussian policesinden aksiyon sec\n",
    "        action = policy(W, state, False)\n",
    "        # Aksiyonu uygula\n",
    "        next_state, reward, done, info = env.step(action)\n",
    "        # Tarihe kaydet\n",
    "        trajectory.append((state, action, reward))\n",
    "        total_reward += reward\n",
    "        state = next_state\n",
    "        \n",
    "        t += 1\n",
    "       \n",
    "    rewards.append(total_reward)\n",
    "    \n",
    "    # Bu episodda alinmis her aksiyon icin\n",
    "    for t, (s, a, r) in enumerate(trajectory[:-1]):\n",
    "        # Beklenen odullerin toplami\n",
    "        G = np.sum([gamma**(t+i) * trj[2] for i, trj in enumerate(trajectory[t:])])\n",
    "        # Gradyan\n",
    "        dW = dlogpr(W, s, a)\n",
    "        # REINFORCE\n",
    "        W += alpha * dW * G\n",
    "    \n",
    "    # std degiskeni giderek aziltiliyor ki ilerledikce daha az kesif yapilsin\n",
    "    if e % 100 == 0:\n",
    "        std /= 2\n",
    "\n",
    "env.close()"
   ]
  },
  {
   "cell_type": "code",
   "execution_count": 5,
   "metadata": {},
   "outputs": [
    {
     "data": {
      "text/plain": [
       "[<matplotlib.lines.Line2D at 0x7f21b90b8ef0>]"
      ]
     },
     "execution_count": 5,
     "metadata": {},
     "output_type": "execute_result"
    },
    {
     "data": {
      "image/png": "[encoded data removed]",
      "text/plain": [
       "<Figure size 432x288 with 1 Axes>"
      ]
     },
     "metadata": {
      "needs_background": "light"
     },
     "output_type": "display_data"
    }
   ],
   "source": [
    "plt.plot(rewards)"
   ]
  },
  {
   "cell_type": "code",
   "execution_count": 6,
   "metadata": {},
   "outputs": [
    {
     "data": {
      "image/png": "[encoded data removed]",
      "text/plain": [
       "<Figure size 720x720 with 1 Axes>"
      ]
     },
     "metadata": {},
     "output_type": "display_data"
    },
    {
     "data": {
      "image/png": "[encoded data removed]",
      "text/plain": [
       "<Figure size 720x720 with 1 Axes>"
      ]
     },
     "metadata": {
      "needs_background": "light"
     },
     "output_type": "display_data"
    }
   ],
   "source": [
    "# Egitildikten sonra\n",
    "run_env(env, W)"
   ]
  },
  {
   "cell_type": "markdown",
   "metadata": {},
   "source": [
    "# Sonuc"
   ]
  },
  {
   "cell_type": "code",
   "execution_count": 7,
   "metadata": {},
   "outputs": [
    {
     "name": "stdout",
     "output_type": "stream",
     "text": [
      "[[-2.37494525e+81  3.62110635e+80  2.40669593e+82 -1.20541133e+82\n",
      "  -7.57000428e+82 -7.49175990e+82  1.11027891e+74  1.44057090e+00]\n",
      " [ 5.06799976e+81 -7.72723755e+80 -5.13575392e+82  2.57228006e+82\n",
      "   1.61539639e+83  1.59869948e+83 -2.36927283e+74  1.18120810e+00]]\n"
     ]
    }
   ],
   "source": [
    "W1 = np.array([[-2.37494525e+81,  3.62110635e+80,  2.40669593e+82, -1.20541133e+82,\n",
    "  -7.57000428e+82, -7.49175990e+82,  1.11027891e+74,  1.44057090e+00]\n",
    " [ 5.06799976e+81 -7.72723755e+80 -5.13575392e+82  2.57228006e+82\n",
    "   1.61539639e+83  1.59869948e+83 -2.36927283e+74  1.18120810e+00]])"
   ]
  },
  {
   "cell_type": "code",
   "execution_count": null,
   "metadata": {},
   "outputs": [],
   "source": []
  }
 ],
 "metadata": {
  "kernelspec": {
   "display_name": "Python 3",
   "language": "python",
   "name": "python3"
  },
  "language_info": {
   "codemirror_mode": {
    "name": "ipython",
    "version": 3
   },
   "file_extension": ".py",
   "mimetype": "text/x-python",
   "name": "python",
   "nbconvert_exporter": "python",
   "pygments_lexer": "ipython3",
   "version": "3.6.7"
  }
 },
 "nbformat": 4,
 "nbformat_minor": 2
}
