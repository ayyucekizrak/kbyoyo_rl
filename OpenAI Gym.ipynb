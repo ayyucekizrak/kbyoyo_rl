{
 "cells": [
  {
   "cell_type": "markdown",
   "metadata": {},
   "source": [
    "# OpenAI Gym\n",
    "\n",
    "Bu Notebook OpenAI Gym Environment'in nasil kullanacagini gostermektedir."
   ]
  },
  {
   "cell_type": "code",
   "execution_count": 1,
   "metadata": {},
   "outputs": [],
   "source": [
    "# Import Stuff\n",
    "import gym\n",
    "from IPython import display\n",
    "import matplotlib\n",
    "import matplotlib.pyplot as plt\n",
    "\n",
    "%matplotlib inline\n",
    "\n",
    "CSS = \"\"\"\n",
    ".output {\n",
    "    align-items: center;\n",
    "}\n",
    "\"\"\"\n",
    "\n",
    "display.HTML('<style>{}</style>'.format(CSS))\n",
    "\n",
    "def show_state(env, e, t):\n",
    "    plt.figure(3, figsize=(10, 10))\n",
    "    plt.clf()\n",
    "    plt.imshow(env.render(mode='rgb_array'))\n",
    "    plt.title(\"Episode: {}, Step: {}\".format(e, t))\n",
    "    plt.axis('off')\n",
    "\n",
    "    display.clear_output(wait=True)\n",
    "    display.display(plt.gcf())"
   ]
  },
  {
   "cell_type": "markdown",
   "metadata": {},
   "source": [
    "Bir ``environment``, ``gym.make`` fonksiyonuna environment ismi verilerek olusturulur. ``step`` fonksiyonu icine bir aksiyon alir ve assagidakileri doner:\n",
    "\n",
    "* ```observation``` (object): Aksiyon alindiktan sonraki state.\n",
    "* ```reward``` (float): Aksiyon alindiktan sonraki reward.\n",
    "* ```done``` (boolean): Environmenti yeniden baslatmak gerektiginin gostergesi.\n",
    "* ```info``` (dict): Debugging icin kullanilacak environment bilgisi. Ogrenme algoritmasina dahil edilmemesi gerekmektedir."
   ]
  },
  {
   "cell_type": "markdown",
   "metadata": {},
   "source": [
    "Episode baslamadan once environment objesinin ``reset`` fonksiyonu kullanilmalidir. Bu sadece en basta elde edilen ``observation``'i doner. Asagidaki kod LunarLander evironmentinda rasgele hareket eden bir ornektir."
   ]
  },
  {
   "cell_type": "code",
   "execution_count": null,
   "metadata": {},
   "outputs": [
    {
     "data": {
      "image/png": "[encoded data removed]",
      "text/plain": [
       "<Figure size 720x720 with 1 Axes>"
      ]
     },
     "metadata": {},
     "output_type": "display_data"
    }
   ],
   "source": [
    "env = gym.make('LunarLander-v2')\n",
    "img = plt.imshow(env.render(mode='rgb_array'))\n",
    "\n",
    "for e in range(10):\n",
    "    observation = env.reset()\n",
    "    \n",
    "    for t in range(100):\n",
    "        show_state(env, e+1, t+1)\n",
    "        observation, reward, done, info = env.step(env.action_space.sample())\n",
    "        \n",
    "        if done:\n",
    "            break\n",
    "env.close()"
   ]
  },
  {
   "cell_type": "code",
   "execution_count": null,
   "metadata": {},
   "outputs": [],
   "source": []
  }
 ],
 "metadata": {
  "kernelspec": {
   "display_name": "Python 3",
   "language": "python",
   "name": "python3"
  },
  "language_info": {
   "codemirror_mode": {
    "name": "ipython",
    "version": 3
   },
   "file_extension": ".py",
   "mimetype": "text/x-python",
   "name": "python",
   "nbconvert_exporter": "python",
   "pygments_lexer": "ipython3",
   "version": "3.6.7"
  }
 },
 "nbformat": 4,
 "nbformat_minor": 2
}
